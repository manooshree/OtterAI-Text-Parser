{
 "cells": [
  {
   "cell_type": "markdown",
   "id": "cd9e6f8b",
   "metadata": {},
   "source": [
    "## Otter AI Output Text Parser\n",
    "Transfer output from Otter AI speech translation output to pandas dataframe"
   ]
  },
  {
   "cell_type": "code",
   "execution_count": 92,
   "id": "8c3b5395",
   "metadata": {},
   "outputs": [],
   "source": [
    "import pandas as pd\n",
    "import re"
   ]
  },
  {
   "cell_type": "markdown",
   "id": "90108ed9",
   "metadata": {},
   "source": [
    "Import your text from OtterAI below"
   ]
  },
  {
   "cell_type": "code",
   "execution_count": 87,
   "id": "4d14f5ea",
   "metadata": {},
   "outputs": [],
   "source": [
    "text = \n",
    "'''\n",
    "IMPORT YOUR TEXT HERE\n",
    "'''"
   ]
  },
  {
   "cell_type": "code",
   "execution_count": 2,
   "id": "67779e6b",
   "metadata": {
    "scrolled": true
   },
   "outputs": [
    {
     "ename": "NameError",
     "evalue": "name 'text' is not defined",
     "output_type": "error",
     "traceback": [
      "\u001b[0;31m---------------------------------------------------------------------------\u001b[0m",
      "\u001b[0;31mNameError\u001b[0m                                 Traceback (most recent call last)",
      "Cell \u001b[0;32mIn[2], line 6\u001b[0m\n\u001b[1;32m      2\u001b[0m speakers \u001b[38;5;241m=\u001b[39m []\n\u001b[1;32m      3\u001b[0m texts \u001b[38;5;241m=\u001b[39m []\n\u001b[0;32m----> 6\u001b[0m lines \u001b[38;5;241m=\u001b[39m \u001b[43mtext\u001b[49m\u001b[38;5;241m.\u001b[39mstrip()\u001b[38;5;241m.\u001b[39msplit(\u001b[38;5;124m'\u001b[39m\u001b[38;5;130;01m\\n\u001b[39;00m\u001b[38;5;124m'\u001b[39m) \u001b[38;5;66;03m#Parse input\u001b[39;00m\n\u001b[1;32m      8\u001b[0m \u001b[38;5;28;01mfor\u001b[39;00m line \u001b[38;5;129;01min\u001b[39;00m lines:\n\u001b[1;32m      9\u001b[0m     parts \u001b[38;5;241m=\u001b[39m line\u001b[38;5;241m.\u001b[39msplit(\u001b[38;5;124m'\u001b[39m\u001b[38;5;124m  \u001b[39m\u001b[38;5;124m'\u001b[39m, \u001b[38;5;241m1\u001b[39m)\n",
      "\u001b[0;31mNameError\u001b[0m: name 'text' is not defined"
     ]
    }
   ],
   "source": [
    "timestamps = []\n",
    "speakers = []\n",
    "texts = []\n",
    "\n",
    "\n",
    "lines = text.strip().split('\\n') #Parse input\n",
    "\n",
    "for line in lines:\n",
    "    parts = line.split('  ', 1)\n",
    "    #print(parts)\n",
    "    if len(parts) == 2:\n",
    "        \n",
    "        timestamps.append(parts[1].strip())\n",
    "        speakers.append(parts[0].strip()) \n",
    "        \n",
    "    if len(parts) == 1 and parts !=['']:\n",
    "        \n",
    "        texts.append(parts[0].strip())\n",
    "\n",
    "#Df with outputs\n",
    "df = pd.DataFrame({'Timestamp': timestamps, 'Speaker': speakers, 'Text': texts})\n",
    "df.head()\n"
   ]
  },
  {
   "cell_type": "markdown",
   "id": "c5aee955",
   "metadata": {},
   "source": [
    "Save as csv"
   ]
  },
  {
   "cell_type": "code",
   "execution_count": 91,
   "id": "be810153",
   "metadata": {},
   "outputs": [],
   "source": [
    "df.to_csv('YOURDATA.csv')"
   ]
  },
  {
   "cell_type": "code",
   "execution_count": null,
   "id": "08d9e469",
   "metadata": {},
   "outputs": [],
   "source": []
  }
 ],
 "metadata": {
  "kernelspec": {
   "display_name": "Python 3 (ipykernel)",
   "language": "python",
   "name": "python3"
  },
  "language_info": {
   "codemirror_mode": {
    "name": "ipython",
    "version": 3
   },
   "file_extension": ".py",
   "mimetype": "text/x-python",
   "name": "python",
   "nbconvert_exporter": "python",
   "pygments_lexer": "ipython3",
   "version": "3.10.9"
  }
 },
 "nbformat": 4,
 "nbformat_minor": 5
}
